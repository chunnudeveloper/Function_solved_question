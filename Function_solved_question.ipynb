{
 "cells": [
  {
   "cell_type": "code",
   "execution_count": null,
   "id": "3582c2be-54e8-4040-90f3-fed5fe8de047",
   "metadata": {},
   "outputs": [],
   "source": [
    "# Q  Explain the importance of functions\n",
    "\n",
    "# Function it is a blocke of code that performs some specific task,\n",
    "# important of functions >> functions ate a fundamental concept in programming that enhance\n",
    "# code reusability, modularity, readability, encapsulation, abstraction, testing ,debugging,\n",
    "# and collaboration"
   ]
  },
  {
   "cell_type": "code",
   "execution_count": null,
   "id": "5ef07fbd-5d2d-454e-9a37-d30c1b9af513",
   "metadata": {},
   "outputs": [],
   "source": [
    "# Q  write a basic function to greet students\n",
    "\n",
    "def greet(n):\n",
    "    return \"Welcome to pwskills\", n\n",
    "greet(\"khalid\")"
   ]
  },
  {
   "cell_type": "code",
   "execution_count": null,
   "id": "a0922399-d098-47df-a244-f5a5e34f7c31",
   "metadata": {},
   "outputs": [],
   "source": [
    "def greet(n):\n",
    "    print(\"this is print\",n)\n",
    "    return \"this is print\",n\n",
    "greet(\"khalid\")\n",
    "# print >> print statement return nothing value ,\n",
    "             #print statement return  Nonetype\n",
    " #return >> return statement value ko return kar deta hai\n",
    "             # return \n"
   ]
  },
  {
   "cell_type": "code",
   "execution_count": 2,
   "id": "4ff8374f-3eeb-4a56-a92d-d71389c78dcf",
   "metadata": {},
   "outputs": [],
   "source": [
    "# write aa code that generates the squares of numbers from 1 to n using a generator\n",
    "\n",
    "def square_num(n):\n",
    "    square = []\n",
    "    for i in range(1,n+1):\n",
    "        square.append(i ** 2)\n",
    "    yield square\n",
    "\n",
    "square_result = square_num(10)"
   ]
  },
  {
   "cell_type": "code",
   "execution_count": 3,
   "id": "727b0e86-3745-4286-91d1-39ed650fde15",
   "metadata": {},
   "outputs": [
    {
     "data": {
      "text/plain": [
       "<generator object square_num at 0x7f2f6b1397e0>"
      ]
     },
     "execution_count": 3,
     "metadata": {},
     "output_type": "execute_result"
    }
   ],
   "source": [
    "square_result"
   ]
  },
  {
   "cell_type": "code",
   "execution_count": 4,
   "id": "d1489ea4-c779-45c9-9ff0-83f3d827f575",
   "metadata": {},
   "outputs": [
    {
     "data": {
      "text/plain": [
       "[1, 4, 9, 16, 25, 36, 49, 64, 81, 100]"
      ]
     },
     "execution_count": 4,
     "metadata": {},
     "output_type": "execute_result"
    }
   ],
   "source": [
    "next(square_result)"
   ]
  },
  {
   "cell_type": "code",
   "execution_count": 5,
   "id": "51b0348a-c718-4fe1-8313-b47d666f344b",
   "metadata": {},
   "outputs": [],
   "source": [
    "# write a code that generates palindromic numbers up to n uding a generator\n",
    "\n",
    "def generate_palindromic(num):\n",
    "    str_num = str(num)\n",
    "\n",
    "    if str_num == str_num[::-1]:\n",
    "       yield \"This is a palindromic number\"\n",
    "    else:\n",
    "      yield \"This is not palindromic number\"\n",
    "result = generate_palindromic(12321)"
   ]
  },
  {
   "cell_type": "code",
   "execution_count": 6,
   "id": "4300ea0b-f04d-4c05-836b-04f9ac49981c",
   "metadata": {},
   "outputs": [
    {
     "data": {
      "text/plain": [
       "'This is a palindromic number'"
      ]
     },
     "execution_count": 6,
     "metadata": {},
     "output_type": "execute_result"
    }
   ],
   "source": [
    "next(result)"
   ]
  },
  {
   "cell_type": "code",
   "execution_count": 7,
   "id": "61c293eb-078a-4ad5-bc7f-cfd3c63d1ee1",
   "metadata": {},
   "outputs": [
    {
     "name": "stdin",
     "output_type": "stream",
     "text": [
      "Enter a number :  24\n"
     ]
    }
   ],
   "source": [
    "# write a code thet generates even numbers from 2 ro n using a generator.\n",
    "\n",
    "num = int(input(\"Enter a number : \"))\n",
    "\n",
    "def generate_evenNumber(num):\n",
    "    if num % 2 == 0:\n",
    "       yield \"this a even number\"\n",
    "    else:\n",
    "      yield \"this is a not even number\"\n",
    "\n",
    "check = generate_evenNumber (num)"
   ]
  },
  {
   "cell_type": "code",
   "execution_count": 8,
   "id": "9090b9a7-6239-4c77-b2e9-90b95003d1b5",
   "metadata": {},
   "outputs": [
    {
     "data": {
      "text/plain": [
       "'this a even number'"
      ]
     },
     "execution_count": 8,
     "metadata": {},
     "output_type": "execute_result"
    }
   ],
   "source": [
    "next(check)"
   ]
  },
  {
   "cell_type": "code",
   "execution_count": 9,
   "id": "2d074359-9962-4c11-b963-cfbc8b484941",
   "metadata": {},
   "outputs": [
    {
     "name": "stdout",
     "output_type": "stream",
     "text": [
      "2\n",
      "4\n",
      "6\n",
      "8\n",
      "10\n"
     ]
    }
   ],
   "source": [
    "def generate_even_numbers(n):\n",
    "\n",
    "  i = 2\n",
    "  while i <= n:\n",
    "    yield i\n",
    "    i += 2\n",
    "\n",
    "# Example usage\n",
    "for even_number in generate_even_numbers(10):\n",
    "  print(even_number)"
   ]
  },
  {
   "cell_type": "code",
   "execution_count": 11,
   "id": "c2130f89-2474-411f-b632-f9282f71c26e",
   "metadata": {},
   "outputs": [
    {
     "name": "stdout",
     "output_type": "stream",
     "text": [
      "1\n",
      "2\n",
      "4\n"
     ]
    }
   ],
   "source": [
    "# write a code that generates powers of two up to n using generator.\n",
    "\n",
    "def generate_powers_of_two(n):\n",
    "\n",
    "  power = 1\n",
    "  while power <= n:\n",
    "    yield power\n",
    "    power *= 2\n",
    "\n",
    "# Example usage\n",
    "for power_of_two in generate_powers_of_two(6):\n",
    "  print(power_of_two)"
   ]
  },
  {
   "cell_type": "code",
   "execution_count": 12,
   "id": "050acefd-3255-4f60-a684-8621429ea887",
   "metadata": {},
   "outputs": [
    {
     "name": "stdin",
     "output_type": "stream",
     "text": [
      "Enter lower limit here :  2\n",
      "Enter upper limit here :  20\n"
     ]
    }
   ],
   "source": [
    "# write a code the generates prime numbers up to using agenerator.\n",
    "\n",
    "lower = int(input(\"Enter lower limit here : \"))\n",
    "upper = int(input(\"Enter upper limit here : \"))\n",
    "\n",
    "def generate_prime_number(lower,upper):\n",
    "    for num in range(lower, upper+1):\n",
    "        if num > 1:\n",
    "            for i in range(2,num):\n",
    "                if num % 1 == 0:\n",
    "                    break\n",
    "            else:\n",
    "              yield num\n",
    "result = generate_prime_number(lower,upper)"
   ]
  },
  {
   "cell_type": "code",
   "execution_count": 13,
   "id": "4aa74212-c899-4ca6-a6f4-40fb96dab682",
   "metadata": {},
   "outputs": [
    {
     "data": {
      "text/plain": [
       "2"
      ]
     },
     "execution_count": 13,
     "metadata": {},
     "output_type": "execute_result"
    }
   ],
   "source": [
    "next(result)"
   ]
  },
  {
   "cell_type": "code",
   "execution_count": 14,
   "id": "0402769b-9c01-4f21-9e94-2435f7dc6219",
   "metadata": {},
   "outputs": [],
   "source": [
    "# wrie a code that uses a lambda function to calculate the square of a given numbers.\n",
    "\n",
    " square = lambda x : x **2"
   ]
  },
  {
   "cell_type": "code",
   "execution_count": 15,
   "id": "f9a1588d-9822-4927-be1a-17b5a1c4adbd",
   "metadata": {},
   "outputs": [
    {
     "data": {
      "text/plain": [
       "25"
      ]
     },
     "execution_count": 15,
     "metadata": {},
     "output_type": "execute_result"
    }
   ],
   "source": [
    "square(5)"
   ]
  },
  {
   "cell_type": "code",
   "execution_count": 16,
   "id": "f056735b-cab4-43bd-be84-3303323c98e6",
   "metadata": {},
   "outputs": [
    {
     "name": "stdin",
     "output_type": "stream",
     "text": [
      "Enter a first number :  23\n",
      "Enter a second number :  23\n"
     ]
    },
    {
     "name": "stdout",
     "output_type": "stream",
     "text": [
      "23 and 23 of add :  46\n"
     ]
    }
   ],
   "source": [
    "# write a code that uses a lambda function to calculate the sum of two numbers.\n",
    "\n",
    "first_num = int(input(\"Enter a first number : \"))\n",
    "second_num = int(input(\"Enter a second number : \"))\n",
    "\n",
    "total_add = lambda first_num , second_num : first_num + second_num\n",
    "\n",
    "add = total_add(first_num , second_num)\n",
    "\n",
    "print(f\"{first_num} and {second_num} of add :  {add}\")\n"
   ]
  },
  {
   "cell_type": "code",
   "execution_count": 17,
   "id": "85b09ca3-aea1-449b-9b29-fe214fd08ee3",
   "metadata": {},
   "outputs": [
    {
     "name": "stdout",
     "output_type": "stream",
     "text": [
      "[1, 4, 9, 16, 25, 36]\n"
     ]
    }
   ],
   "source": [
    "square_lambda = lambda num : num * num\n",
    "\n",
    "numbers = [1,2,3,4,5,6]\n",
    "square_numbers = list(map(square_lambda,numbers))\n",
    "\n",
    "print(square_numbers)"
   ]
  },
  {
   "cell_type": "code",
   "execution_count": 18,
   "id": "22cc90b7-5736-4cfa-b5a0-444cb13b138c",
   "metadata": {},
   "outputs": [
    {
     "name": "stdin",
     "output_type": "stream",
     "text": [
      "Enter a number:  46\n"
     ]
    },
    {
     "name": "stdout",
     "output_type": "stream",
     "text": [
      "46 is Even\n"
     ]
    }
   ],
   "source": [
    "# write a code thaat uses a lambda fumction to check whether a given numbers is even or odd.\n",
    "\n",
    "check_even_odd = lambda num: \"Even\" if num % 2 == 0 else \"Odd\"\n",
    "\n",
    "number = int(input(\"Enter a number: \"))\n",
    "\n",
    "print(f\"{number} is {check_even_odd(number)}\")"
   ]
  },
  {
   "cell_type": "code",
   "execution_count": 19,
   "id": "1eac0ab1-e3d0-4a32-b7b4-d97701c08ddf",
   "metadata": {},
   "outputs": [
    {
     "name": "stdout",
     "output_type": "stream",
     "text": [
      "Khalid Ansari\n"
     ]
    }
   ],
   "source": [
    "# write a code that uses a lambda function to concatenate two strings.\n",
    "\n",
    "f_name = \"Khalid\"\n",
    "l_name = \"Ansari\"\n",
    "\n",
    "full_name = lambda f_name ,l_name : f_name + \" \"+ l_name\n",
    "\n",
    "concatenated_string = full_name(f_name,l_name)\n",
    "\n",
    "print(concatenated_string)"
   ]
  },
  {
   "cell_type": "code",
   "execution_count": 20,
   "id": "c3b575cb-d8f3-4946-82e7-53c5f72d1155",
   "metadata": {},
   "outputs": [
    {
     "name": "stdout",
     "output_type": "stream",
     "text": [
      "Maximum Value : 35\n"
     ]
    }
   ],
   "source": [
    "#  write a code that uses a lambda functio to find maximum of three given numbers.\n",
    "\n",
    "num1 = 15\n",
    "num2 = 25\n",
    "num3 = 35\n",
    "\n",
    "find_max_number = lambda num1,num2,num3 : max(num1,num2,num3)\n",
    "\n",
    "max_value = find_max_number(num1,num2,num3)\n",
    "print(f\"Maximum Value : {max_value}\")"
   ]
  },
  {
   "cell_type": "code",
   "execution_count": 22,
   "id": "2381e387-85fa-4be9-817f-6dbb3a37e233",
   "metadata": {},
   "outputs": [
    {
     "name": "stdout",
     "output_type": "stream",
     "text": [
      "[4, 16, 36, 64, 100]\n"
     ]
    }
   ],
   "source": [
    "# write a code that generates the squares of even numbers from a given list.\n",
    "\n",
    "numbers = [1,2,3,4,5,6,7,8,9,10]\n",
    "def generate_even_squares (numbers):\n",
    "    even_squares = []\n",
    "    for number in numbers:\n",
    "        if number % 2 == 0:\n",
    "           even_squares.append(number ** 2)\n",
    "    return even_squares\n",
    "\n",
    "\n",
    "print(generate_even_squares(numbers))"
   ]
  },
  {
   "cell_type": "code",
   "execution_count": 23,
   "id": "52199689-7d42-4074-ab43-34806f048564",
   "metadata": {},
   "outputs": [
    {
     "name": "stdout",
     "output_type": "stream",
     "text": [
      "Even squares: [4, 16, 36]\n"
     ]
    }
   ],
   "source": [
    "# write a code that generates the squares of even numbers from a given list.\n",
    "numbers = [1, 2, 3, 4, 5, 6]\n",
    "def generate_even_squares(numbers):\n",
    "\n",
    "    even_squares = []\n",
    "    for number in numbers:\n",
    "      if number % 2 == 0:\n",
    "         even_squares.append(number ** 2)\n",
    "\n",
    "    return even_squares\n",
    "\n",
    "even_squares = generate_even_squares(numbers)\n",
    "\n",
    "print(f\"Even squares: {even_squares}\")"
   ]
  },
  {
   "cell_type": "code",
   "execution_count": 24,
   "id": "28c7b9e3-277b-4fdf-bccd-f9d18029c2a7",
   "metadata": {},
   "outputs": [
    {
     "name": "stdout",
     "output_type": "stream",
     "text": [
      "Positive Product 48\n"
     ]
    }
   ],
   "source": [
    "# write a code that calculate the product of positive numbers from a given list.\n",
    "\n",
    "positive_num = [3,4,-2,-5,4]\n",
    "\n",
    "def positive_func(positive_num):\n",
    "    pos_result = 1\n",
    "\n",
    "    for number in positive_num :\n",
    "        if number > 0:\n",
    "           pos_result *= number\n",
    "    return pos_result\n",
    "\n",
    "product_result = positive_func(positive_num)\n",
    "\n",
    "print(f\"Positive Product {product_result}\")"
   ]
  },
  {
   "cell_type": "code",
   "execution_count": 26,
   "id": "6c354109-ac9c-4359-a8c8-9492dd06b913",
   "metadata": {},
   "outputs": [
    {
     "name": "stdout",
     "output_type": "stream",
     "text": [
      "Doubled odd numbers: [2, 2, 6, 4, 10, 6]\n"
     ]
    }
   ],
   "source": [
    "# write a code that doubles the values of odd numbers from a given list.\n",
    "\n",
    "def double_odd_numbers(numbers):\n",
    "\n",
    "    doubled_odds = []\n",
    "    for number in numbers:\n",
    "        if number % 2 != 0:\n",
    "           doubled_odds.append(number * 2)\n",
    "        else:\n",
    "             doubled_odds.append(number)\n",
    "\n",
    "    return doubled_odds\n",
    "\n",
    "# Example usage\n",
    "numbers = [1, 2, 3, 4, 5, 6]\n",
    "doubled_odds = double_odd_numbers(numbers)\n",
    "\n",
    "print(f\"Doubled odd numbers: {doubled_odds}\")"
   ]
  },
  {
   "cell_type": "code",
   "execution_count": 27,
   "id": "a4750b12-ec8d-4e1b-bc11-a154498cf2ed",
   "metadata": {},
   "outputs": [
    {
     "name": "stdout",
     "output_type": "stream",
     "text": [
      "The sum of cubes of numbers in the list is : 225\n"
     ]
    }
   ],
   "source": [
    "# write a code that calculates the sum of cubes of numbers from a given list.\n",
    "\n",
    "numbers = [1,2,3,4,5]\n",
    "def sum_cubes(numbers):\n",
    "    sum_of_cube = 0\n",
    "\n",
    "    for number in numbers :\n",
    "        sum_of_cube += number **3\n",
    "    return sum_of_cube\n",
    "result_sum_cube = sum_cubes(numbers)\n",
    "print(f\"The sum of cubes of numbers in the list is : {result_sum_cube}\")"
   ]
  },
  {
   "cell_type": "code",
   "execution_count": 28,
   "id": "5f434876-c8f0-4736-ab3f-381cb331490a",
   "metadata": {},
   "outputs": [
    {
     "name": "stdout",
     "output_type": "stream",
     "text": [
      "Prime numbers in the list: [2, 3, 5, 7]\n"
     ]
    }
   ],
   "source": [
    "#  write a code thet filters out prime numbers from a given list.\n",
    "numbers = [1, 2, 3, 4, 5, 6, 7, 8, 9, 10]\n",
    "def filter_primes(numbers):\n",
    "    prime_numbers = []\n",
    "    for number in numbers:\n",
    "        if number > 1:\n",
    "           is_prime = True\n",
    "           for i in range(2,int(number **0.5) + 1):\n",
    "               if number % i == 0:\n",
    "                  is_prime = False\n",
    "                  break\n",
    "           if is_prime:\n",
    "              prime_numbers.append(number)\n",
    "    return prime_numbers\n",
    "\n",
    "\n",
    "prime_numbers = filter_primes(numbers)\n",
    "print(f\"Prime numbers in the list: {prime_numbers}\")"
   ]
  },
  {
   "cell_type": "code",
   "execution_count": null,
   "id": "3a1c88c2-b656-4e11-a0b8-cef8aa10a88d",
   "metadata": {},
   "outputs": [],
   "source": []
  }
 ],
 "metadata": {
  "kernelspec": {
   "display_name": "Python 3 (ipykernel)",
   "language": "python",
   "name": "python3"
  },
  "language_info": {
   "codemirror_mode": {
    "name": "ipython",
    "version": 3
   },
   "file_extension": ".py",
   "mimetype": "text/x-python",
   "name": "python",
   "nbconvert_exporter": "python",
   "pygments_lexer": "ipython3",
   "version": "3.10.8"
  }
 },
 "nbformat": 4,
 "nbformat_minor": 5
}
